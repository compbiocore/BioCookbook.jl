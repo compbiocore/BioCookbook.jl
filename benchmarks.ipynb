{
 "cells": [
  {
   "cell_type": "markdown",
   "metadata": {},
   "source": [
    "# Benchmarks for BioJulia cookbooks"
   ]
  },
  {
   "cell_type": "code",
   "execution_count": 1,
   "metadata": {},
   "outputs": [
    {
     "data": {
      "text/plain": [
       "Main.BioCookbook"
      ]
     },
     "execution_count": 1,
     "metadata": {},
     "output_type": "execute_result"
    }
   ],
   "source": [
    "using BenchmarkTools\n",
    "\n",
    "include(\"src/BioCookbook.jl\")"
   ]
  },
  {
   "cell_type": "markdown",
   "metadata": {},
   "source": [
    "# MSA Concatenation\n",
    "\n",
    "Benchmarking multiple sequence alignment concatenation. We have a function in `simulation.jl` that will simulate amino acid alignments in FASTA form with `numFiles` alignments to be concatenated and `numSeqs` sequences in each alignment. Here `numFiles=30` and `numSeqs=100`.\n",
    "\n",
    "## Julia benchmark"
   ]
  },
  {
   "cell_type": "code",
   "execution_count": 2,
   "metadata": {},
   "outputs": [
    {
     "data": {
      "text/plain": [
       "BenchmarkTools.Trial: \n",
       "  memory estimate:  9.03 MiB\n",
       "  allocs estimate:  96270\n",
       "  --------------\n",
       "  minimum time:     8.273 ms (0.00% GC)\n",
       "  median time:      8.940 ms (0.00% GC)\n",
       "  mean time:        9.379 ms (6.24% GC)\n",
       "  maximum time:     59.998 ms (82.04% GC)\n",
       "  --------------\n",
       "  samples:          532\n",
       "  evals/sample:     1"
      ]
     },
     "execution_count": 2,
     "metadata": {},
     "output_type": "execute_result"
    }
   ],
   "source": [
    "tmpdir = tempdir()\n",
    "infiles = BioCookbook.simAlignments(30,100,tmpdir)\n",
    "tmpfile = mktemp(tmpdir)[1]\n",
    "@benchmark BioCookbook.concatenate($infiles,$tmpfile)"
   ]
  },
  {
   "cell_type": "code",
   "execution_count": 3,
   "metadata": {},
   "outputs": [],
   "source": [
    "# doing some cleanup\n",
    "for f in infiles\n",
    "    rm(f)\n",
    "end\n",
    "rm(tmpfile)"
   ]
  },
  {
   "cell_type": "markdown",
   "metadata": {},
   "source": [
    "## Python benchmark\n",
    "\n",
    "Python code for the benchmark and the simulated alignment can be found in `python/concatenate.py`."
   ]
  },
  {
   "cell_type": "code",
   "execution_count": 4,
   "metadata": {},
   "outputs": [
    {
     "name": "stdout",
     "output_type": "stream",
     "text": [
      "10 loops, best of 3: 48.4 msec per loop\n"
     ]
    }
   ],
   "source": [
    ";python -m timeit -s 'import tempfile; tmpdir=tempfile.TemporaryDirectory(); from python.concatenate import simAlignments; infiles=simAlignments(30,100,tmpdir.name); outf=tempfile.NamedTemporaryFile().name;' 'from python.concatenate import concatenate; concatenate(infiles,outf)'"
   ]
  },
  {
   "cell_type": "code",
   "execution_count": null,
   "metadata": {},
   "outputs": [],
   "source": []
  },
  {
   "cell_type": "code",
   "execution_count": null,
   "metadata": {},
   "outputs": [],
   "source": []
  },
  {
   "cell_type": "code",
   "execution_count": null,
   "metadata": {},
   "outputs": [],
   "source": []
  }
 ],
 "metadata": {
  "@webio": {
   "lastCommId": null,
   "lastKernelId": null
  },
  "kernelspec": {
   "display_name": "Julia 1.1.0",
   "language": "julia",
   "name": "julia-1.1"
  },
  "language_info": {
   "file_extension": ".jl",
   "mimetype": "application/julia",
   "name": "julia",
   "version": "1.1.0"
  }
 },
 "nbformat": 4,
 "nbformat_minor": 2
}
